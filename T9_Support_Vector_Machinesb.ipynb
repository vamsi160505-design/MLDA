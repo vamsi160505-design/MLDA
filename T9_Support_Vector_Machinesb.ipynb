{
  "nbformat": 4,
  "nbformat_minor": 0,
  "metadata": {
    "colab": {
      "provenance": [],
      "authorship_tag": "ABX9TyPwFwgzb43ak1P7slsJ8iVs",
      "include_colab_link": true
    },
    "kernelspec": {
      "name": "python3",
      "display_name": "Python 3"
    },
    "language_info": {
      "name": "python"
    }
  },
  "cells": [
    {
      "cell_type": "markdown",
      "metadata": {
        "id": "view-in-github",
        "colab_type": "text"
      },
      "source": [
        "<a href=\"https://colab.research.google.com/github/vamsi160505-design/MLDA/blob/main/T9_Support_Vector_Machinesb.ipynb\" target=\"_parent\"><img src=\"https://colab.research.google.com/assets/colab-badge.svg\" alt=\"Open In Colab\"/></a>"
      ]
    },
    {
      "cell_type": "code",
      "execution_count": 2,
      "metadata": {
        "colab": {
          "base_uri": "https://localhost:8080/"
        },
        "id": "pBXmnwJBAcP3",
        "outputId": "d1fe77dc-cea1-4f3c-dfdb-a4de916fe130"
      },
      "outputs": [
        {
          "output_type": "stream",
          "name": "stdout",
          "text": [
            "Classification Report:\n",
            "               precision    recall  f1-score   support\n",
            "\n",
            "           0       1.00      1.00      1.00        11\n",
            "           1       0.73      0.67      0.70        12\n",
            "           2       0.50      0.57      0.53         7\n",
            "\n",
            "    accuracy                           0.77        30\n",
            "   macro avg       0.74      0.75      0.74        30\n",
            "weighted avg       0.77      0.77      0.77        30\n",
            "\n",
            "Confusion Matrix:\n",
            " [[11  0  0]\n",
            " [ 0  8  4]\n",
            " [ 0  3  4]]\n"
          ]
        }
      ],
      "source": [
        "import numpy as np\n",
        "import matplotlib.pyplot as plt\n",
        "from sklearn import datasets\n",
        "from sklearn.model_selection import train_test_split\n",
        "from sklearn.svm import SVC\n",
        "from sklearn.metrics import classification_report, confusion_matrix\n",
        "iris = datasets.load_iris()\n",
        "x = iris.data[:, :2]\n",
        "y = iris.target\n",
        "x_train, x_test, y_train, y_test = train_test_split(x, y, test_size=0.2,\n",
        "random_state=21)\n",
        "model = SVC(kernel='linear')\n",
        "model.fit(x_train, y_train)\n",
        "y_pred = model.predict(x_test)\n",
        "print(\"Classification Report:\\n\", classification_report(y_test,\n",
        "y_pred))\n",
        "cm = confusion_matrix(y_test, y_pred)\n",
        "print(\"Confusion Matrix:\\n\", cm)"
      ]
    },
    {
      "cell_type": "code",
      "source": [],
      "metadata": {
        "id": "mL2UmQz8Agcf"
      },
      "execution_count": null,
      "outputs": []
    }
  ]
}