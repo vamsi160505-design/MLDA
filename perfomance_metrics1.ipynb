{
  "nbformat": 4,
  "nbformat_minor": 0,
  "metadata": {
    "colab": {
      "provenance": [],
      "authorship_tag": "ABX9TyOO+acgircoTasDS37Muni0",
      "include_colab_link": true
    },
    "kernelspec": {
      "name": "python3",
      "display_name": "Python 3"
    },
    "language_info": {
      "name": "python"
    }
  },
  "cells": [
    {
      "cell_type": "markdown",
      "metadata": {
        "id": "view-in-github",
        "colab_type": "text"
      },
      "source": [
        "<a href=\"https://colab.research.google.com/github/vamsi160505-design/MLDA/blob/main/perfomance_metrics1.ipynb\" target=\"_parent\"><img src=\"https://colab.research.google.com/assets/colab-badge.svg\" alt=\"Open In Colab\"/></a>"
      ]
    },
    {
      "cell_type": "code",
      "execution_count": 2,
      "metadata": {
        "colab": {
          "base_uri": "https://localhost:8080/"
        },
        "id": "tnkL7w7tCIVv",
        "outputId": "8819d4f9-12c3-4ced-9b47-b84260c1f977"
      },
      "outputs": [
        {
          "output_type": "stream",
          "name": "stdout",
          "text": [
            "   fixed acidity  volatile acidity  citric acid  residual sugar  chlorides  \\\n",
            "0            7.4              0.70         0.00             1.9      0.076   \n",
            "1            7.8              0.88         0.00             2.6      0.098   \n",
            "2            7.8              0.76         0.04             2.3      0.092   \n",
            "3           11.2              0.28         0.56             1.9      0.075   \n",
            "4            7.4              0.70         0.00             1.9      0.076   \n",
            "\n",
            "   free sulfur dioxide  total sulfur dioxide  density    pH  sulphates  \\\n",
            "0                 11.0                  34.0   0.9978  3.51       0.56   \n",
            "1                 25.0                  67.0   0.9968  3.20       0.68   \n",
            "2                 15.0                  54.0   0.9970  3.26       0.65   \n",
            "3                 17.0                  60.0   0.9980  3.16       0.58   \n",
            "4                 11.0                  34.0   0.9978  3.51       0.56   \n",
            "\n",
            "   alcohol  quality  \n",
            "0      9.4        5  \n",
            "1      9.8        5  \n",
            "2      9.8        5  \n",
            "3      9.8        6  \n",
            "4      9.4        5  \n",
            "Classification Accuracy: 0.871875\n",
            "Regression MSE: 0.3900251439643166\n",
            "Regression R2 Score: 0.40318034127906854\n"
          ]
        }
      ],
      "source": [
        "import pandas as pd\n",
        "from sklearn.model_selection import train_test_split\n",
        "from sklearn.tree import DecisionTreeClassifier\n",
        "from sklearn.linear_model import LinearRegression\n",
        "from sklearn.metrics import accuracy_score, mean_squared_error, r2_score\n",
        "\n",
        "# Load the data\n",
        "data = pd.read_csv('11.csv')\n",
        "\n",
        "print(data.head())\n",
        "\n",
        "# For classification, convert quality to binary label (good quality >=7)\n",
        "data['good_quality'] = (data['quality'] >= 7).astype(int)\n",
        "\n",
        "# Features and targets\n",
        "X = data.drop(columns=['quality', 'good_quality'])\n",
        "y_class = data['good_quality']\n",
        "y_reg = data['quality']\n",
        "\n",
        "# Train-test split for classification\n",
        "X_train_c, X_test_c, y_train_c, y_test_c = train_test_split(X, y_class, test_size=0.2, random_state=42)\n",
        "\n",
        "# Decision Tree Classifier\n",
        "clf = DecisionTreeClassifier(random_state=42)\n",
        "clf.fit(X_train_c, y_train_c)\n",
        "y_pred_c = clf.predict(X_test_c)\n",
        "print(\"Classification Accuracy:\", accuracy_score(y_test_c, y_pred_c))\n",
        "\n",
        "# Train-test split for regression\n",
        "X_train_r, X_test_r, y_train_r, y_test_r = train_test_split(X, y_reg, test_size=0.2, random_state=42)\n",
        "\n",
        "# Linear Regression\n",
        "lr = LinearRegression()\n",
        "lr.fit(X_train_r, y_train_r)\n",
        "y_pred_r = lr.predict(X_test_r)\n",
        "print(\"Regression MSE:\", mean_squared_error(y_test_r, y_pred_r))\n",
        "print(\"Regression R2 Score:\", r2_score(y_test_r, y_pred_r))"
      ]
    }
  ]
}